{
 "cells": [
  {
   "cell_type": "markdown",
   "id": "07743bdd",
   "metadata": {},
   "source": [
    "## What is cointegration?\n",
    "The idea behind cointegration is that even if the price of two different assets both follow random walk, it is still possible that a linear regression combination of them is not a random walk."
   ]
  },
  {
   "cell_type": "code",
   "execution_count": 1,
   "id": "7d912383",
   "metadata": {},
   "outputs": [],
   "source": [
    "import pandas as pd\n",
    "\n",
    "import warnings\n",
    "warnings.filterwarnings(\"ignore\")"
   ]
  },
  {
   "cell_type": "code",
   "execution_count": 2,
   "id": "a27c8bfc",
   "metadata": {},
   "outputs": [],
   "source": [
    "data=pd.read_csv('datasets/2015-01-01 to 2021-05-13.csv')\n",
    "\n",
    "data_kbl_gbime=data[data['Stock Symbol'].isin(['KBL','GBIME'])]\n",
    "\n",
    "data_kbl_gbime['Date']=pd.to_datetime(data_kbl_gbime.Date)\n",
    "kbl=data_kbl_gbime[data_kbl_gbime['Stock Symbol']=='KBL']\n",
    "gbime=data_kbl_gbime[data_kbl_gbime['Stock Symbol']=='GBIME']\n",
    "\n",
    "\n",
    "\n",
    "gbime_kbl_merge=kbl.merge(gbime,on=\"Date\",how=\"inner\")\n",
    "\n",
    "kbl=gbime_kbl_merge[gbime_kbl_merge['Stock Symbol_x']=='KBL']\n",
    "gbime=gbime_kbl_merge[gbime_kbl_merge['Stock Symbol_y']=='GBIME']"
   ]
  },
  {
   "cell_type": "code",
   "execution_count": 3,
   "id": "5b61b526",
   "metadata": {},
   "outputs": [
    {
     "name": "stdout",
     "output_type": "stream",
     "text": [
      "The p-value for the ADF test is  0.12213377297573313\n"
     ]
    }
   ],
   "source": [
    "# Import the statsmodels module for regression and the adfuller function\n",
    "import statsmodels.api as sm\n",
    "from statsmodels.tsa.stattools import adfuller\n",
    "\n",
    "# Regressing GBIME on KBL\n",
    "kbl = sm.add_constant(kbl['Closing Price_x'])\n",
    "result = sm.OLS(gbime['Closing Price_y'],kbl['Closing Price_x']).fit()\n",
    "\n",
    "# Computing ADF\n",
    "#print(result.summary())\n",
    "b = result.params[0]\n",
    "adf_stats = adfuller(gbime['Closing Price_y'] - b*kbl['Closing Price_x'])\n",
    "print(\"The p-value for the ADF test is \", adf_stats[1])"
   ]
  },
  {
   "cell_type": "markdown",
   "id": "b73f2fa7",
   "metadata": {},
   "source": [
    "####  The data shows that the KBL and GBIME are not cointegrated as the probabily that the null HYpothesis that the KBL and GBIME are not-cointegrated is 12%. which is signigicantly high probability.That why we cant reject the null hypothesis."
   ]
  }
 ],
 "metadata": {
  "kernelspec": {
   "display_name": "Python 3",
   "language": "python",
   "name": "python3"
  },
  "language_info": {
   "codemirror_mode": {
    "name": "ipython",
    "version": 3
   },
   "file_extension": ".py",
   "mimetype": "text/x-python",
   "name": "python",
   "nbconvert_exporter": "python",
   "pygments_lexer": "ipython3",
   "version": "3.8.5"
  }
 },
 "nbformat": 4,
 "nbformat_minor": 5
}
